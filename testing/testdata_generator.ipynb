{
 "cells": [
  {
   "cell_type": "markdown",
   "id": "5252d790",
   "metadata": {},
   "source": [
    "## Generator Notebook for (initially) Random Test Data"
   ]
  },
  {
   "cell_type": "code",
   "execution_count": 3,
   "id": "50049bd2",
   "metadata": {},
   "outputs": [],
   "source": [
    "# Imports\n",
    "import numpy as np\n",
    "import os\n",
    "\n",
    "from genome_helper import generate_gene, generate_genome, generate_reads, partition_reads, save_test_case"
   ]
  },
  {
   "cell_type": "code",
   "execution_count": 4,
   "id": "c1714efb",
   "metadata": {},
   "outputs": [
    {
     "name": "stdout",
     "output_type": "stream",
     "text": [
      "Current Directory: /Users/daphneyang/Downloads/2425_Sophomore/HolmesLab/bilby_encoder/testing\n",
      "Test Data Directory: /Users/daphneyang/Downloads/2425_Sophomore/HolmesLab/bilby_encoder/testing/testdata\n"
     ]
    }
   ],
   "source": [
    "# Set correct pathing\n",
    "curr_dir_path_str = './'\n",
    "curr_dir_path = os.path.abspath(curr_dir_path_str)\n",
    "\n",
    "testdata_path_str = './testdata'\n",
    "testdata_path = os.path.abspath(testdata_path_str)\n",
    "\n",
    "print('Current Directory: ' + curr_dir_path)\n",
    "print('Test Data Directory: ' + testdata_path)"
   ]
  },
  {
   "cell_type": "markdown",
   "id": "48c0572f",
   "metadata": {},
   "source": [
    "### Test Case 1 - basictest"
   ]
  },
  {
   "cell_type": "code",
   "execution_count": 5,
   "id": "e8cb35fb",
   "metadata": {},
   "outputs": [
    {
     "name": "stdout",
     "output_type": "stream",
     "text": [
      "Genome:  GCGATTTGAGCAGGCGCGAAGTAGGGGTGGTTCAGCAAGAACTCGGCATCAAATTCAATTTTATGTAAGGAGTCGTGAGGACGAGATCCGATTGTTGCGG\n",
      "Genes:  ['AGTAGGGGTGGTTCAGCAAGAACTCGGCAT', 'TTTATGTAAGGAGTCGTGAGGACGA']\n",
      "Exon Sequences:  ['AGTAGGGGTGAACTCGGCAT', 'TTTATGAGTCGACGA']\n",
      "Reads:  [['TATGAGTCGACGA', 'TGAGTCGA', 'TGAGTCGAC', 'AGTAGGGGTGAACTCG', 'AGTAGGGGTGAACTCGGCA', 'TGAGTCGAC', 'AGTCGACGA', 'GTAGGGGTGAACTCGGCAT', 'GAACTCGGCA', 'GGGGTGAACTCGGCA']]\n",
      "Windows:  [[('chr1', 10, 50), ('chr1', 70, 80)]]\n"
     ]
    }
   ],
   "source": [
    "# Seed PRNG\n",
    "np.random.seed(0)\n",
    "test_case_name = \"basictest\"\n",
    "\n",
    "splice_structure_gene1 = [10, 10, 10]\n",
    "splice_structure_gene2 = [5, 5, 5, 5, 5]\n",
    "\n",
    "gene1, exon_seq1 = generate_gene(splice_structure_gene1)\n",
    "gene2, exon_seq2 = generate_gene(splice_structure_gene2)\n",
    "\n",
    "genes = [gene1, gene2]\n",
    "exon_seqs = [exon_seq1, exon_seq2]\n",
    "\n",
    "genome = generate_genome(genes, 100)\n",
    "reads = generate_reads(exon_seqs, [5, 5])\n",
    "\n",
    "num_partitions = 1\n",
    "split_reads = partition_reads(reads, num_partitions)\n",
    "\n",
    "print(\"Genome: \", genome)\n",
    "print(\"Genes: \", genes)\n",
    "print(\"Exon Sequences: \", exon_seqs)\n",
    "print(\"Reads: \", split_reads)\n",
    "\n",
    "bed_windows = [[('chr1', 10, 50), ('chr1', 70, 80)]]\n",
    "print(\"Windows: \", bed_windows)"
   ]
  },
  {
   "cell_type": "code",
   "execution_count": 6,
   "id": "8faae9f1",
   "metadata": {},
   "outputs": [
    {
     "name": "stdout",
     "output_type": "stream",
     "text": [
      "Directory '/Users/daphneyang/Downloads/2425_Sophomore/HolmesLab/bilby_encoder/testing/testdata/basictest' created.\n"
     ]
    }
   ],
   "source": [
    "save_test_case(testdata_path, test_case_name, genome, split_reads, bed_windows)"
   ]
  },
  {
   "cell_type": "code",
   "execution_count": 7,
   "id": "1e7e0ba8",
   "metadata": {},
   "outputs": [],
   "source": [
    "%%bash\n",
    "cd testdata/basictest/\n",
    "samtools view -h alignment0.bam -o alignment0.sam # for ease of viewing alignment contents\n",
    "samtools sort alignment0.sam -o sorted_alignment0.bam # sort for upcoming indexing\n",
    "samtools index sorted_alignment0.bam # index for pysam"
   ]
  },
  {
   "cell_type": "markdown",
   "id": "d0a2ea93",
   "metadata": {},
   "source": [
    "### Test Case 2 - reversetest"
   ]
  },
  {
   "cell_type": "code",
   "execution_count": 8,
   "id": "31f94c12",
   "metadata": {},
   "outputs": [
    {
     "name": "stdout",
     "output_type": "stream",
     "text": [
      "Genome:  AACTCCTTCATGCAGTGTTCAGCTTAAGTGGCAGGCGATAATCGGAGGAGTGTAGGGCGAAGCAACACTCGCGACGCGTGTGGGCAGAGTGTACGCCCCGTATTTCTAGCGTTTGCAACGTTATTGATCCTTTTCCCCAAAGGAGGTTGTGGGGCGGTTTTAGTGAAGGACGGGGTTGGTCAATTTGTCCGAGTTTTTGCGGCTGTGCCTTAGTTTTGCGACCATTTTCAGATACTGATTCGACCTCCTG\n",
      "Genes:  ['CCTTCATGCAGTGTTCAGCTTAAGTGGCAGGCGATAATCG', 'CGCGACGCGTGTGGGCAGAGTGTACGCCCCGTATTTCTAGCGTTTGCAAC', 'TCCCCAAAGGAGGTTGTGGGGCGGTTTTAGTGAAGGACGGGGTTGGTCAATTTGTCCGAGTTTTTGCGGCTGTGC']\n",
      "Exon Sequences:  ['CCTTCATGCAGCGATAATCG', 'CGCGACGCGTTGTACGCCCCCGTTTGCAAC', 'TCCCCAAAGGAGGTTTGAAGGACGGGGTTGTTTTTGCGGCTGTGC']\n",
      "Reads:  [['CGTTGTACGCC', 'GATTATCGCTG', 'GGTTTG', 'GGGGGCGTACAACG', 'CCCAAAGGAGGTTTGAAGGACGGGGTTGTTTTTGCGG', 'CAAACGGGGGC', 'CTTCATGCAGCGAT', 'CTTCATGCAGCGATA'], ['GCGTTG', 'ATTAT', 'GGGCGTACAACGCGTCG', 'GCGTACAACGCGTCGC', 'CAAAGGAGGTTTGAAGGACGGGGTTGTTTTTGCG', 'CGCGACGCGTTG', 'CAGCCGCAAAAACAACCCCGTCCTTCAAACCTCCTTTGG', 'GCATGAAGG'], ['TTCATGCAGCGATAATCG', 'ACGGGGTTGTTTT', 'AAAACAACCCCGTCCTTCAAACCTCCTTTGGG', 'ACAACC', 'TCATG', 'ATTATCGCTGCATGAA', 'TTGCAAACGGGGGCGTACAACGCGTCGC'], ['TCCCCAAAGGAGGTTTGAAGGACGGGGTTGTTTTTGCGGCTGTGC', 'TGTACGCCCC', 'ACGGGGGCGTACAACGCGTCGCG', 'CCTTCATGC', 'GCAAAAACAACCCCGTCCTTCAAACC', 'ACAACCCCGTCCTTCAAACCTCCTTTGGG', 'TGCAGCGATAATCG']]\n",
      "Windows:  [[('chr1', 4, 44), ('chr1', 225, 245)], [('chr1', 140, 170), ('chr1', 96, 115)]]\n"
     ]
    }
   ],
   "source": [
    "# Seed PRNG\n",
    "np.random.seed(291357)\n",
    "test_case_name = \"reversetest\"\n",
    "\n",
    "splice_structure_gene1 = [10, 20, 10]\n",
    "splice_structure_gene2 = [10, 10, 10, 10, 10]\n",
    "splice_structure_gene3 = [15, 15, 15, 15, 15]\n",
    "\n",
    "gene1, exon_seq1 = generate_gene(splice_structure_gene1)\n",
    "gene2, exon_seq2 = generate_gene(splice_structure_gene2)\n",
    "gene3, exon_seq3 = generate_gene(splice_structure_gene3)\n",
    "\n",
    "genes = [gene1, gene2, gene3]\n",
    "exon_seqs = [exon_seq1, exon_seq2, exon_seq3]\n",
    "\n",
    "genome = generate_genome(genes, 250)\n",
    "reads = generate_reads(exon_seqs, [10, 10, 10], rev_probability=0.5)\n",
    "\n",
    "num_partitions = 4\n",
    "split_reads = partition_reads(reads, num_partitions)\n",
    "\n",
    "print(\"Genome: \", genome)\n",
    "print(\"Genes: \", genes)\n",
    "print(\"Exon Sequences: \", exon_seqs)\n",
    "print(\"Reads: \", split_reads)\n",
    "\n",
    "bed_windows = [\n",
    "    [('chr1', 4, 44), ('chr1', 225, 245)], \n",
    "    [('chr1', 140, 170), ('chr1', 96, 115)]\n",
    "]\n",
    "print(\"Windows: \", bed_windows)"
   ]
  },
  {
   "cell_type": "code",
   "execution_count": 12,
   "id": "125e7d70",
   "metadata": {},
   "outputs": [
    {
     "data": {
      "text/plain": [
       "'CCCGTATTTCTAGCGTTTG'"
      ]
     },
     "execution_count": 13,
     "metadata": {},
     "output_type": "execute_result"
    }
   ],
   "source": [
    "genome[96:115]"
   ]
  },
  {
   "cell_type": "code",
   "execution_count": 10,
   "id": "a2c2571f",
   "metadata": {},
   "outputs": [
    {
     "name": "stdout",
     "output_type": "stream",
     "text": [
      "Directory '/Users/daphneyang/Downloads/2425_Sophomore/HolmesLab/bilby_encoder/testing/testdata/reversetest' created.\n"
     ]
    }
   ],
   "source": [
    "save_test_case(testdata_path, test_case_name, genome, split_reads, bed_windows)"
   ]
  },
  {
   "cell_type": "code",
   "execution_count": 11,
   "id": "46f3f8b8",
   "metadata": {},
   "outputs": [],
   "source": [
    "%%bash\n",
    "cd testdata/reversetest/\n",
    "samtools view -h alignment0.bam -o alignment0.sam # for ease of viewing alignment contents\n",
    "samtools view -h alignment1.bam -o alignment1.sam\n",
    "samtools view -h alignment2.bam -o alignment2.sam\n",
    "samtools view -h alignment3.bam -o alignment3.sam\n",
    "samtools sort alignment0.sam -o sorted_alignment0.bam # sort for upcoming indexing\n",
    "samtools sort alignment1.sam -o sorted_alignment1.bam\n",
    "samtools sort alignment2.sam -o sorted_alignment2.bam\n",
    "samtools sort alignment3.sam -o sorted_alignment3.bam\n",
    "samtools index sorted_alignment0.bam # index for pysam\n",
    "samtools index sorted_alignment1.bam\n",
    "samtools index sorted_alignment2.bam\n",
    "samtools index sorted_alignment3.bam"
   ]
  },
  {
   "cell_type": "markdown",
   "id": "43ff40ea",
   "metadata": {},
   "source": [
    "### Test Case 3 - shortReverseTest"
   ]
  },
  {
   "cell_type": "code",
   "execution_count": 35,
   "id": "afb99854",
   "metadata": {},
   "outputs": [
    {
     "name": "stdout",
     "output_type": "stream",
     "text": [
      "Genome:  CAAGTAACCTTCATGCAGTTGTCAGAGCTTAAGTGGCGCGCTGAGGAGTGTAGGGCATAATCGCGCGTGACGCGAGTGGGCGTAGTGTAAGCGCCCCATTTCTGAAGCAACACTGTTATTGATCCTTTCTTAGTTTTGCGACCATTTTCAGATACTGATTCGACCCGTTTGCAACTCCCCAAAGGGTAGGTTGGGGCGAGGTTTTTGAAGGACGGGGTTGGTCAATTTAGGTCCGTTTTTGCGGCTCCTG\n",
      "Genes:  ['CCTTCATGCAGTTGTCAGAGCTTAAGTGGCGCG', 'ATAATCGCGCGTGACGCGAGTGGGCGTAGTGTAAGCGCCCCATTTCT', 'CGTTTGCAACTCCCCAAAGGGTAGGTTGGGGCGAGGTTTTTGAAGGACGGGGTTGGTCAATTTAGGTCCGTTTTTGCGGC']\n",
      "Exon Sequences:  ['CCTTCATGCAGTTAGCTTAAGTGGCGCG', 'ATAATCGCGCTGGGCCGCCCCATTTCT', 'CGTTTGCAACTCCCCAAAGGGTTTTTGAAGGACGGGGTTGGTCCGTTTTTGCGGC']\n",
      "Reads:  [['GTTTTTGAAGGACGGGGTTGGTCCGTTTTTGCGG', 'GCCGCAAAAACGGACCAACCCCGTCCTTCAAAAACCCTTTGGGGAGTTGCAAACG', 'CCGCCCCATT', 'CATGCAGTTAGCTTAAGTG', 'GGGCGGCCCA', 'CGCGCCACTTAAGCTAACTGCATGAAGG', 'ACCAACCCCGTCCTTCAAAAACCCTTTGGGGAGTTGCAA', 'CGCTGGGCCGC', 'GAAATGGGGCG'], ['CGGCCCAGCGCGATTA', 'CGCCACTTAAGCTAACTGCATGAAGG', 'TTAGCTTAAGTGGC', 'CGGGGTTGGTCCGTTTTTGCG', 'GCGCTG', 'ATAATCGCGCTGGGCCGCCCCATTTCT', 'CACTTAAGCTAACT', 'GCGCCACTTAAGCTAACTGCA'], ['ATGGGGCGGCCCAGCGCGATTAT', 'GGCGGCCCAGCGCGATT', 'CGCCACTTAAGCTAACTGCAT', 'GGGGCGGCCCAGCG', 'ACTCCCCAAAGGGTTTTTGAAGGACGGGGTTGGTCCGTTTTTGCGG', 'TAAGCTAACTG', 'CTTAA', 'GCAGTTAG']]\n",
      "Windows:  [[('chr1', 0, 10)], [('chr1', 120, 123), ('chr1', 95, 100)]]\n"
     ]
    }
   ],
   "source": [
    "# Seed PRNG\n",
    "np.random.seed(291357)\n",
    "test_case_name = \"short_windowtest\"\n",
    "\n",
    "splice_structure_gene1 = [13, 5, 15]\n",
    "splice_structure_gene2 = [10, 10, 5, 10, 12]\n",
    "splice_structure_gene3 = [20, 15, 20, 10, 15]\n",
    "\n",
    "gene1, exon_seq1 = generate_gene(splice_structure_gene1)\n",
    "gene2, exon_seq2 = generate_gene(splice_structure_gene2)\n",
    "gene3, exon_seq3 = generate_gene(splice_structure_gene3)\n",
    "\n",
    "genes = [gene1, gene2, gene3]\n",
    "exon_seqs = [exon_seq1, exon_seq2, exon_seq3]\n",
    "\n",
    "genome = generate_genome(genes, 250)\n",
    "reads = generate_reads(exon_seqs, [10, 10, 5], rev_probability=0.6)\n",
    "\n",
    "num_partitions = 3\n",
    "split_reads = partition_reads(reads, num_partitions)\n",
    "\n",
    "print(\"Genome: \", genome)\n",
    "print(\"Genes: \", genes)\n",
    "print(\"Exon Sequences: \", exon_seqs)\n",
    "print(\"Reads: \", split_reads)\n",
    "\n",
    "bed_windows = [\n",
    "    [('chr1', 0, 10)], \n",
    "    [('chr1', 120, 123), ('chr1', 95, 100)]\n",
    "]\n",
    "print(\"Windows: \", bed_windows)"
   ]
  },
  {
   "cell_type": "code",
   "execution_count": 43,
   "id": "8ae963c2",
   "metadata": {},
   "outputs": [
    {
     "data": {
      "text/plain": [
       "91"
      ]
     },
     "execution_count": 43,
     "metadata": {},
     "output_type": "execute_result"
    }
   ],
   "source": [
    "genome.find(\"CGCCCC\")"
   ]
  },
  {
   "cell_type": "code",
   "execution_count": 36,
   "id": "dd585081",
   "metadata": {},
   "outputs": [
    {
     "name": "stdout",
     "output_type": "stream",
     "text": [
      "Directory '/Users/daphneyang/Downloads/2425_Sophomore/HolmesLab/bilby_encoder/testing/testdata/short_reversetest' created.\n"
     ]
    }
   ],
   "source": [
    "save_test_case(testdata_path, test_case_name, genome, split_reads, bed_windows)"
   ]
  },
  {
   "cell_type": "code",
   "execution_count": 37,
   "id": "21e90700",
   "metadata": {},
   "outputs": [
    {
     "name": "stderr",
     "output_type": "stream",
     "text": [
      "[E::bam_read1] CIGAR and query sequence lengths differ for read2\n",
      "samtools view: error reading file \"alignment0.bam\"\n"
     ]
    }
   ],
   "source": [
    "%%bash\n",
    "cd testdata/short_reversetest/\n",
    "samtools view -h alignment0.bam -o alignment0.sam # for ease of viewing alignment contents\n",
    "samtools view -h alignment1.bam -o alignment1.sam\n",
    "samtools view -h alignment2.bam -o alignment2.sam\n",
    "samtools sort alignment0.sam -o sorted_alignment0.bam # sort for upcoming indexing\n",
    "samtools sort alignment1.sam -o sorted_alignment1.bam\n",
    "samtools sort alignment2.sam -o sorted_alignment2.bam\n",
    "samtools index sorted_alignment0.bam # index for pysam\n",
    "samtools index sorted_alignment1.bam\n",
    "samtools index sorted_alignment2.bam"
   ]
  },
  {
   "cell_type": "code",
   "execution_count": null,
   "id": "31144f77",
   "metadata": {},
   "outputs": [],
   "source": []
  }
 ],
 "metadata": {
  "kernelspec": {
   "display_name": "bioe-research",
   "language": "python",
   "name": "python3"
  },
  "language_info": {
   "codemirror_mode": {
    "name": "ipython",
    "version": 3
   },
   "file_extension": ".py",
   "mimetype": "text/x-python",
   "name": "python",
   "nbconvert_exporter": "python",
   "pygments_lexer": "ipython3",
   "version": "3.12.7"
  }
 },
 "nbformat": 4,
 "nbformat_minor": 5
}
