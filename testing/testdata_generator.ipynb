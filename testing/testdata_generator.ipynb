{
 "cells": [
  {
   "cell_type": "markdown",
   "id": "5252d790",
   "metadata": {},
   "source": [
    "## Generator Notebook for (initially) Random Test Data"
   ]
  },
  {
   "cell_type": "code",
   "execution_count": 1,
   "id": "50049bd2",
   "metadata": {},
   "outputs": [
    {
     "name": "stderr",
     "output_type": "stream",
     "text": [
      "/Users/ritwiksrinivas/anaconda3/envs/bioe-research/lib/python3.11/site-packages/Bio/pairwise2.py:278: BiopythonDeprecationWarning: Bio.pairwise2 has been deprecated, and we intend to remove it in a future release of Biopython. As an alternative, please consider using Bio.Align.PairwiseAligner as a replacement, and contact the Biopython developers if you still need the Bio.pairwise2 module.\n",
      "  warnings.warn(\n"
     ]
    }
   ],
   "source": [
    "# Imports\n",
    "import numpy as np\n",
    "import os\n",
    "\n",
    "from genome_helper import *\n",
    "\n",
    "# Seed PRNG\n",
    "np.random.seed(0)"
   ]
  },
  {
   "cell_type": "code",
   "execution_count": 2,
   "id": "c1714efb",
   "metadata": {},
   "outputs": [
    {
     "name": "stdout",
     "output_type": "stream",
     "text": [
      "Current Directory: /Users/ritwiksrinivas/Desktop/College/HolmesLab/bilby_encoder/testing\n",
      "Test Data Directory: /Users/ritwiksrinivas/Desktop/College/HolmesLab/bilby_encoder/testing/testdata\n"
     ]
    }
   ],
   "source": [
    "# Set correct pathing\n",
    "curr_dir_path_str = './'\n",
    "curr_dir_path = os.path.abspath(curr_dir_path_str)\n",
    "\n",
    "testdata_path_str = './testdata'\n",
    "testdata_path = os.path.abspath(testdata_path_str)\n",
    "\n",
    "print('Current Directory: ' + curr_dir_path)\n",
    "print('Test Data Directory: ' + testdata_path)"
   ]
  },
  {
   "cell_type": "markdown",
   "id": "48c0572f",
   "metadata": {},
   "source": [
    "### Test Case 1"
   ]
  },
  {
   "cell_type": "code",
   "execution_count": 3,
   "id": "e8cb35fb",
   "metadata": {},
   "outputs": [
    {
     "name": "stdout",
     "output_type": "stream",
     "text": [
      "Genome:  GCGATTTGAGCAGGCGCGAAGTAGGGGTGGTTCAGCAAGAACTCGGCATCAAATTCAATTTTATGTAAGGAGTCGTGAGGACGAGATCCGATTGTTGCGG\n",
      "Genes:  ['AGTAGGGGTGGTTCAGCAAGAACTCGGCAT', 'TTTATGTAAGGAGTCGTGAGGACGA']\n",
      "Exon Sequences:  ['AGTAGGGGTGAACTCGGCAT', 'TTTATGAGTCGACGA']\n",
      "Reads:  [[np.str_('TATGAGTCGACGA'), np.str_('TGAGTCGA'), np.str_('TGAGTCGAC'), np.str_('AGTAGGGGTGAACTCG'), np.str_('AGTAGGGGTGAACTCGGCA'), np.str_('TGAGTCGAC'), np.str_('AGTCGACGA'), np.str_('GTAGGGGTGAACTCGGCAT'), np.str_('GAACTCGGCA'), np.str_('GGGGTGAACTCGGCA')]]\n",
      "Windows:  [[('chr1', 10, 50), ('chr1', 70, 80)]]\n"
     ]
    }
   ],
   "source": [
    "splice_structure_gene1 = [10, 10, 10]\n",
    "splice_structure_gene2 = [5, 5, 5, 5, 5]\n",
    "\n",
    "gene1, exon_seq1 = generate_gene(splice_structure_gene1)\n",
    "gene2, exon_seq2 = generate_gene(splice_structure_gene2)\n",
    "\n",
    "genes = [gene1, gene2]\n",
    "exon_seqs = [exon_seq1, exon_seq2]\n",
    "\n",
    "genome = generate_genome(genes, 100)\n",
    "reads = generate_reads(exon_seqs, [5, 5])\n",
    "\n",
    "num_partitions = 1\n",
    "split_reads = partition_reads(reads, num_partitions)\n",
    "\n",
    "print(\"Genome: \", genome)\n",
    "print(\"Genes: \", genes)\n",
    "print(\"Exon Sequences: \", exon_seqs)\n",
    "print(\"Reads: \", split_reads)\n",
    "\n",
    "bed_windows = [[('chr1', 10, 50), ('chr1', 70, 80)]]\n",
    "print(\"Windows: \", bed_windows)"
   ]
  },
  {
   "cell_type": "code",
   "execution_count": 4,
   "id": "8faae9f1",
   "metadata": {},
   "outputs": [
    {
     "name": "stdout",
     "output_type": "stream",
     "text": [
      "Directory '/Users/ritwiksrinivas/Desktop/College/HolmesLab/bilby_encoder/testing/testdata/basictest' created.\n"
     ]
    }
   ],
   "source": [
    "save_test_case(testdata_path, \"basictest\", genome, split_reads, bed_windows)"
   ]
  },
  {
   "cell_type": "code",
   "execution_count": 5,
   "id": "1e7e0ba8",
   "metadata": {},
   "outputs": [],
   "source": [
    "%%bash\n",
    "cd testdata/basictest/\n",
    "samtools view -h alignment0.bam -o alignment0.sam # for ease of viewing alignment contents\n",
    "samtools sort alignment0.sam -o sorted_alignment0.bam # sort for upcoming indexing\n",
    "samtools index sorted_alignment0.bam # index for pysam"
   ]
  }
 ],
 "metadata": {
  "kernelspec": {
   "display_name": "bioe-research",
   "language": "python",
   "name": "python3"
  },
  "language_info": {
   "codemirror_mode": {
    "name": "ipython",
    "version": 3
   },
   "file_extension": ".py",
   "mimetype": "text/x-python",
   "name": "python",
   "nbconvert_exporter": "python",
   "pygments_lexer": "ipython3",
   "version": "3.11.10"
  }
 },
 "nbformat": 4,
 "nbformat_minor": 5
}
