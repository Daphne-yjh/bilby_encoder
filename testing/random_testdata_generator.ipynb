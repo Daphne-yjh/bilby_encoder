{
 "cells": [
  {
   "cell_type": "code",
   "execution_count": 8,
   "id": "0c8af5e9-6bb0-4fbb-a1f9-8bdf8d48d0e1",
   "metadata": {},
   "outputs": [
    {
     "name": "stdout",
     "output_type": "stream",
     "text": [
      "100\n",
      "CTCGAGTCTCGGTGCGGTCAGTACCTCGATATTATCTGCGTTCAGCACAACTCTCGGCACCTAGCAAGACGTTAGATCATTGCGGTCTCCTCGACATTAA\n"
     ]
    }
   ],
   "source": [
    "import random\n",
    "\n",
    "exon1 = ''.join(random.choices(\"ATGC\", k=20))\n",
    "intron1 = 'GT'+''.join(random.choices(\"ATGC\", k=6))+'AT'\n",
    "exon2 = ''.join(random.choices(\"ATGC\", k=10))\n",
    "intron2 = ''.join(random.choices(\"ATGC\", k=20))\n",
    "exon3 = ''.join(random.choices(\"ATGC\", k=10))\n",
    "intron3 = 'GT'+''.join(random.choices(\"ATGC\", k=6))+'AT'\n",
    "exon4 = ''.join(random.choices(\"ATGC\", k=20))\n",
    "exon5 = ''.join(random.choices(\"ATGC\", k=10))\n",
    "\n",
    "seq = f\"\"\">seq1\n",
    "{exon1+intron1+exon2+intron2+exon3+intron3+exon4}\n",
    "\"\"\"\n",
    "print(len(exon1+intron1+exon2+intron2+exon3+intron3+exon4))\n",
    "print(exon1+intron1+exon2+intron2+exon3+intron3+exon4)\n",
    "with open('test_seq.fa', 'w') as fa:\n",
    "    fa.write(seq)"
   ]
  },
  {
   "cell_type": "code",
   "execution_count": 9,
   "id": "e15f2849-3d42-4f0f-992d-181aa0acaaa3",
   "metadata": {},
   "outputs": [],
   "source": [
    "bed =\"\"\"\n",
    "track name=\"Exons with GT-AG splice sites\"\n",
    "seq1    0   20  exon1   0   +\n",
    "seq1    30  70  exon2   0   +\n",
    "seq1    80  100 exon3   0   +\n",
    "seq1    50  60 exon4   0   -\n",
    "\"\"\"\n",
    "\n",
    "with open('test_reads.bed', 'w') as bed_file:\n",
    "    bed_file.write(bed)"
   ]
  },
  {
   "cell_type": "code",
   "execution_count": 10,
   "id": "7c7ab437-de77-4629-97ab-ecc54b6090a8",
   "metadata": {},
   "outputs": [],
   "source": [
    "sam_content =  f\"\"\"@HD\\tVN:1.0\\tSO:unsorted\n",
    "@SQ\\tSN:seq1\\tLN:100\n",
    "read1\\t0\\tseq1\\t1\\t255\\t20M\\t*\\t0\\t0\\t{exon1}\\t*\n",
    "read2\\t0\\tseq1\\t31\\t255\\t10M20N10M\\t*\\t0\\t0\\t{exon2+exon3}\\t*\n",
    "read3\\t0\\tseq1\\t81\\t255\\t20M\\t*\\t0\\t0\\t{exon4}\\t*\n",
    "read4\\t16\\tseq1\\t51\\t255\\t10M\\t*\\t0\\t0\\t{exon5}\\t*\n",
    "\"\"\"\n",
    "\n",
    "with open('test_reads.sam', 'w') as sam_file:\n",
    "    sam_file.write(sam_content)"
   ]
  },
  {
   "cell_type": "code",
   "execution_count": 11,
   "id": "6b6ded83-7b2c-4c05-babe-7de04600414d",
   "metadata": {},
   "outputs": [
    {
     "name": "stdout",
     "output_type": "stream",
     "text": [
      "@HD^IVN:1.0^ISO:unsorted$\n",
      "@SQ^ISN:seq1^ILN:100$\n",
      "read1^I0^Iseq1^I1^I255^I20M^I*^I0^I0^ICTCGAGTCTCGGTGCGGTCA^I*$\n",
      "read2^I0^Iseq1^I31^I255^I10M20N10M^I*^I0^I0^IATTATCTGCGCTAGCAAGAC^I*$\n",
      "read3^I0^Iseq1^I81^I255^I20M^I*^I0^I0^ITGCGGTCTCCTCGACATTAA^I*$\n",
      "read4^I16^Iseq1^I51^I255^I10M^I*^I0^I0^IGGAGCAGATT^I*$\n"
     ]
    }
   ],
   "source": [
    "file = \"test_reads\"\n",
    "#file=\"generated\"\n",
    "!cat -A {file}.sam\n",
    "!samtools view -S -b {file}.sam > {file}.bam\n"
   ]
  },
  {
   "cell_type": "code",
   "execution_count": null,
   "id": "86e91757-e5f3-405f-8869-010901a14049",
   "metadata": {},
   "outputs": [],
   "source": []
  }
 ],
 "metadata": {
  "kernelspec": {
   "display_name": "Python 3 (ipykernel)",
   "language": "python",
   "name": "python3"
  },
  "language_info": {
   "codemirror_mode": {
    "name": "ipython",
    "version": 3
   },
   "file_extension": ".py",
   "mimetype": "text/x-python",
   "name": "python",
   "nbconvert_exporter": "python",
   "pygments_lexer": "ipython3",
   "version": "3.11.0"
  }
 },
 "nbformat": 4,
 "nbformat_minor": 5
}
